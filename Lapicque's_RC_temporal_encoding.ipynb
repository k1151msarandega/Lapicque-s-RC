{
  "nbformat": 4,
  "nbformat_minor": 0,
  "metadata": {
    "colab": {
      "provenance": [],
      "authorship_tag": "ABX9TyPBNeQOu7/bg8o1WMoFkBpr",
      "include_colab_link": true
    },
    "kernelspec": {
      "name": "python3",
      "display_name": "Python 3"
    },
    "language_info": {
      "name": "python"
    }
  },
  "cells": [
    {
      "cell_type": "markdown",
      "metadata": {
        "id": "view-in-github",
        "colab_type": "text"
      },
      "source": [
        "<a href=\"https://colab.research.google.com/github/k1151msarandega/Lapicque-s-RC/blob/main/Lapicque's_RC_temporal_encoding.ipynb\" target=\"_parent\"><img src=\"https://colab.research.google.com/assets/colab-badge.svg\" alt=\"Open In Colab\"/></a>"
      ]
    },
    {
      "cell_type": "markdown",
      "source": [
        "**Architecture:** *Lapicque's RC*\n",
        "\n",
        "\n",
        "**Encoding Scheme:** *Temporal encoding*"
      ],
      "metadata": {
        "id": "qQYWE_QwQ4o0"
      }
    },
    {
      "cell_type": "code",
      "execution_count": null,
      "metadata": {
        "id": "nJs4KIIJU9Zj"
      },
      "outputs": [],
      "source": [
        "import time\n",
        "import torch\n",
        "import torch.nn as nn\n",
        "import torch.optim as optim\n",
        "import torchvision\n",
        "import torchvision.transforms as transforms\n",
        "import snntorch as snn"
      ]
    },
    {
      "cell_type": "markdown",
      "source": [
        "1. Set the random seed for reproducibility"
      ],
      "metadata": {
        "id": "ynfR3XSkVTpt"
      }
    },
    {
      "cell_type": "code",
      "source": [
        "torch.manual_seed(0)"
      ],
      "metadata": {
        "id": "U-Jqpj-oVmqw"
      },
      "execution_count": null,
      "outputs": []
    },
    {
      "cell_type": "markdown",
      "source": [
        "2. Load MNIST dataset"
      ],
      "metadata": {
        "id": "YQPM6Wa_Vp-z"
      }
    },
    {
      "cell_type": "code",
      "source": [
        "train_dataset = torchvision.datasets.MNIST(root='./data', train=True, transform=transforms.ToTensor(), download=True)\n",
        "test_dataset = torchvision.datasets.MNIST(root='./data', train=False, transform=transforms.ToTensor(), download=True)"
      ],
      "metadata": {
        "id": "ejXwB02QV0Zs"
      },
      "execution_count": null,
      "outputs": []
    },
    {
      "cell_type": "markdown",
      "source": [
        "3. Define the training and testing data loaders"
      ],
      "metadata": {
        "id": "U9theRxcV4pn"
      }
    },
    {
      "cell_type": "code",
      "source": [
        "train_loader = torch.utils.data.DataLoader(dataset=train_dataset, batch_size=128, shuffle=True)\n",
        "test_loader = torch.utils.data.DataLoader(dataset=test_dataset, batch_size=128, shuffle=False)\n"
      ],
      "metadata": {
        "id": "f6fzY9cHV_bn"
      },
      "execution_count": null,
      "outputs": []
    },
    {
      "cell_type": "markdown",
      "source": [
        "4. Define the Lapicque's RC model using temporal encoding"
      ],
      "metadata": {
        "id": "Vct51baeWDif"
      }
    },
    {
      "cell_type": "code",
      "source": [
        "class LapicqueRC(nn.Module):\n",
        "    def __init__(self, input_size, hidden_size, output_size):\n",
        "        super(LapicqueRC, self).__init__()\n",
        "\n",
        "        # Input layer\n",
        "        self.input = nn.Linear(input_size, hidden_size)\n",
        "\n",
        "        # Hidden layer\n",
        "        self.hidden = snn.Lapicque(hidden_size, tau=10, threshold=1.0)\n",
        "\n",
        "        # Output layer\n",
        "        self.output = nn.Linear(hidden_size, output_size)\n",
        "\n",
        "    def forward(self, x):\n",
        "        x = self.input(x)\n",
        "        x = self.hidden(x)\n",
        "        x = self.output(x)\n",
        "        return x"
      ],
      "metadata": {
        "id": "PenosTj-WHBk"
      },
      "execution_count": null,
      "outputs": []
    },
    {
      "cell_type": "markdown",
      "source": [
        "5. Create an instance of the Lapicque's RC model"
      ],
      "metadata": {
        "id": "qvtqyYjBWKWj"
      }
    },
    {
      "cell_type": "code",
      "source": [
        "model = LapicqueRC(input_size=784, hidden_size=256, output_size=10)"
      ],
      "metadata": {
        "id": "lMRX7_W7WO9l"
      },
      "execution_count": null,
      "outputs": []
    },
    {
      "cell_type": "markdown",
      "source": [
        "6. Define the loss function and optimiser"
      ],
      "metadata": {
        "id": "Bu1LVzjbWTS0"
      }
    },
    {
      "cell_type": "code",
      "source": [
        "criterion = nn.CrossEntropyLoss()\n",
        "optimizer = optim.Adam(model.parameters(), lr=0.001)"
      ],
      "metadata": {
        "id": "DWeFmtMCWdXh"
      },
      "execution_count": null,
      "outputs": []
    },
    {
      "cell_type": "markdown",
      "source": [
        "7. Training loop"
      ],
      "metadata": {
        "id": "oGYXVL-LWgRc"
      }
    },
    {
      "cell_type": "code",
      "source": [
        "start_time = time.time()\n",
        "for epoch in range(10):  # Number of training epochs\n",
        "    model.train()\n",
        "    total_loss = 0.0\n",
        "    correct = 0\n",
        "    total = 0\n",
        "\n",
        "    for inputs, targets in train_loader:\n",
        "        optimizer.zero_grad()\n",
        "\n",
        "        # Flatten the input images\n",
        "        inputs = inputs.view(-1, 784)\n",
        "\n",
        "        # Apply temporal encoding to the input spike trains\n",
        "        inputs = snn.io.spike_input(inputs, time=1.0, dt=1.0)\n",
        "\n",
        "        # Forward pass\n",
        "        outputs = model(inputs)\n",
        "\n",
        "        # Compute loss\n",
        "        loss = criterion(outputs, targets)\n",
        "\n",
        "        # Backward pass and optimization\n",
        "        loss.backward()\n",
        "        optimizer.step()\n",
        "\n",
        "        # Update statistics\n",
        "        total_loss += loss.item()\n",
        "        _, predicted = torch.max(outputs.data, 1)\n",
        "        total += targets.size(0)\n",
        "        correct += (predicted == targets).sum().item()\n",
        "\n",
        "    # Print training statistics\n",
        "    print('Epoch:', epoch+1)\n",
        "    print('Loss:', total_loss / len(train_loader))\n",
        "    print('Accuracy:', correct / total)"
      ],
      "metadata": {
        "id": "Tl4Z5lNvWkGV"
      },
      "execution_count": null,
      "outputs": []
    },
    {
      "cell_type": "markdown",
      "source": [
        "8. Print training time"
      ],
      "metadata": {
        "id": "BhoIGtGoWvSd"
      }
    },
    {
      "cell_type": "code",
      "source": [
        "end_time = time.time()\n",
        "elapsed_time = end_time - start_time\n",
        "print('Training Time:', elapsed_time, 'seconds')"
      ],
      "metadata": {
        "id": "JV3JbLIsW07Y"
      },
      "execution_count": null,
      "outputs": []
    },
    {
      "cell_type": "markdown",
      "source": [
        "9. Testing Loop"
      ],
      "metadata": {
        "id": "-TMG0G-aW4st"
      }
    },
    {
      "cell_type": "code",
      "source": [
        "start_time = time.time()\n",
        "model.eval()\n",
        "correct = 0\n",
        "total = 0\n",
        "\n",
        "with torch.no_grad():\n",
        "    for inputs, targets in test_loader:\n",
        "        # Flatten the input images\n",
        "        inputs = inputs.view(-1, 784)\n",
        "\n",
        "        # Apply temporal encoding to the input spike trains\n",
        "        inputs = snn.io.spike_input(inputs, time=1.0, dt=1.0)\n",
        "\n",
        "        # Forward pass\n",
        "        outputs = model(inputs)\n",
        "\n",
        "        # Compute predictions\n",
        "        _, predicted = torch.max(outputs.data, 1)\n",
        "\n",
        "        # Update statistics\n",
        "        total += targets.size(0)\n",
        "        correct += (predicted == targets).sum().item()"
      ],
      "metadata": {
        "id": "BpQYIHF3W8rF"
      },
      "execution_count": null,
      "outputs": []
    },
    {
      "cell_type": "markdown",
      "source": [
        "10. Print testing statistics"
      ],
      "metadata": {
        "id": "muv1h1LvXESX"
      }
    },
    {
      "cell_type": "code",
      "source": [
        "print('Test Accuracy:', correct / total)\n",
        "\n",
        "end_time = time.time()\n",
        "elapsed_time = end_time - start_time\n",
        "print('Testing Time:', elapsed_time, 'seconds')"
      ],
      "metadata": {
        "id": "r8C0FrwVXIFh"
      },
      "execution_count": null,
      "outputs": []
    }
  ]
}