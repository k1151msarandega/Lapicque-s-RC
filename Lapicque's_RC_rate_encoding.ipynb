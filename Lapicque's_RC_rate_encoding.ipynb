{
  "nbformat": 4,
  "nbformat_minor": 0,
  "metadata": {
    "colab": {
      "provenance": [],
      "authorship_tag": "ABX9TyOXklKYH6LTmxs9NC+MKnJw",
      "include_colab_link": true
    },
    "kernelspec": {
      "name": "python3",
      "display_name": "Python 3"
    },
    "language_info": {
      "name": "python"
    }
  },
  "cells": [
    {
      "cell_type": "markdown",
      "metadata": {
        "id": "view-in-github",
        "colab_type": "text"
      },
      "source": [
        "<a href=\"https://colab.research.google.com/github/k1151msarandega/Lapicque-s-RC/blob/main/Lapicque's_RC_rate_encoding.ipynb\" target=\"_parent\"><img src=\"https://colab.research.google.com/assets/colab-badge.svg\" alt=\"Open In Colab\"/></a>"
      ]
    },
    {
      "cell_type": "markdown",
      "source": [
        "**Architecture:** *Lapicque's RC*\n",
        "\n",
        "\n",
        "**Encoding Scheme:** *Rate encoding*\n"
      ],
      "metadata": {
        "id": "M7GRmxfNJzp6"
      }
    },
    {
      "cell_type": "markdown",
      "source": [
        "1. Import the required libraries and modules:"
      ],
      "metadata": {
        "id": "BB1VntyQJF8Q"
      }
    },
    {
      "cell_type": "code",
      "source": [
        "import torch\n",
        "import torch.nn as nn\n",
        "import torch.optim as optim\n",
        "from torchvision import datasets, transforms\n",
        "import snntorch as snn\n"
      ],
      "metadata": {
        "id": "x5IvpTQKJNIo"
      },
      "execution_count": null,
      "outputs": []
    },
    {
      "cell_type": "markdown",
      "source": [
        "2. Define the network architecture:"
      ],
      "metadata": {
        "id": "Ymrl3AmQJRfu"
      }
    },
    {
      "cell_type": "code",
      "source": [
        "class SNNModel(nn.Module):\n",
        "    def __init__(self):\n",
        "        super(SNNModel, self).__init__()\n",
        "        self.fc1 = snn.Conv2d(1, 32, kernel_size=3)\n",
        "        self.fc2 = snn.Conv2d(32, 64, kernel_size=3)\n",
        "        self.fc3 = snn.Linear(256, 10)\n",
        "\n",
        "    def forward(self, x):\n",
        "        x = self.fc1(x)\n",
        "        x = self.fc2(x)\n",
        "        x = self.fc3(x)\n",
        "        return x\n"
      ],
      "metadata": {
        "id": "hkHUK09XJdOQ"
      },
      "execution_count": null,
      "outputs": []
    },
    {
      "cell_type": "markdown",
      "source": [
        "3. Load the MNIST dataset:"
      ],
      "metadata": {
        "id": "Wr9pf6bgJgxN"
      }
    },
    {
      "cell_type": "code",
      "source": [
        "transform = transforms.Compose([\n",
        "    transforms.ToTensor(),\n",
        "    transforms.Normalize((0.1307,), (0.3081,))\n",
        "])\n",
        "\n",
        "train_dataset = datasets.MNIST('./data', train=True, download=True, transform=transform)\n",
        "test_dataset = datasets.MNIST('./data', train=False, download=True, transform=transform)\n",
        "\n",
        "train_loader = torch.utils.data.DataLoader(train_dataset, batch_size=64, shuffle=True)\n",
        "test_loader = torch.utils.data.DataLoader(test_dataset, batch_size=64, shuffle=False)\n"
      ],
      "metadata": {
        "id": "UVdXIwqBJkyD"
      },
      "execution_count": null,
      "outputs": []
    },
    {
      "cell_type": "markdown",
      "source": [
        "4. Create an instance of the SNN model and define the loss function and optimizer:"
      ],
      "metadata": {
        "id": "6LXmR4DvJnbl"
      }
    },
    {
      "cell_type": "code",
      "source": [
        "model = SNNModel()\n",
        "criterion = nn.CrossEntropyLoss()\n",
        "optimizer = optim.SGD(model.parameters(), lr=0.01, momentum=0.9)\n"
      ],
      "metadata": {
        "id": "GW31KQ81JrX4"
      },
      "execution_count": null,
      "outputs": []
    },
    {
      "cell_type": "markdown",
      "source": [
        "5. Train the SNN model:"
      ],
      "metadata": {
        "id": "MTj9ij2YJvgH"
      }
    },
    {
      "cell_type": "code",
      "source": [
        "device = torch.device(\"cuda\" if torch.cuda.is_available() else \"cpu\")\n",
        "model.to(device)\n",
        "\n",
        "for epoch in range(10):\n",
        "    model.train()\n",
        "    running_loss = 0.0\n",
        "    correct = 0\n",
        "    total = 0\n",
        "\n",
        "    for batch_idx, (inputs, targets) in enumerate(train_loader):\n",
        "        inputs, targets = inputs.to(device), targets.to(device)\n",
        "\n",
        "        optimizer.zero_grad()\n",
        "\n",
        "        spiking_inputs = snn.io.rate(inputs, duration=100, dt=1.0)\n",
        "        outputs = model(spiking_inputs)\n",
        "\n",
        "        loss = criterion(outputs, targets)\n",
        "        loss.backward()\n",
        "        optimizer.step()\n",
        "\n",
        "        _, predicted = torch.max(outputs.data, 1)\n",
        "        total += targets.size(0)\n",
        "        correct += predicted.eq(targets.data).sum().item()\n",
        "\n",
        "        running_loss += loss.item()\n",
        "\n",
        "    accuracy = 100.0 * correct / total\n",
        "    print(f\"Epoch: {epoch+1}, Loss: {running_loss/len(train_loader)}, Accuracy: {accuracy}%\")\n"
      ],
      "metadata": {
        "id": "SGdTblwYKpmx"
      },
      "execution_count": null,
      "outputs": []
    },
    {
      "cell_type": "markdown",
      "source": [
        "6. Test the SNN model:"
      ],
      "metadata": {
        "id": "dR-6GCaDKtSw"
      }
    },
    {
      "cell_type": "code",
      "source": [
        "model.eval()\n",
        "correct = 0\n",
        "total = 0\n",
        "\n",
        "with torch.no_grad():\n",
        "    for batch_idx, (inputs, targets) in enumerate(test_loader):\n",
        "        inputs, targets = inputs.to(device), targets.to(device)\n",
        "\n",
        "        spiking_inputs = snn.io.rate(inputs, duration=100, dt=1.0)\n",
        "        outputs = model(spiking_inputs)\n",
        "\n",
        "        _, predicted = torch.max(outputs.data, 1)\n",
        "        total += targets.size(0)\n",
        "        correct += predicted.eq(targets.data).sum().item()\n",
        "\n",
        "accuracy = 100.0 * correct / total\n",
        "print(f\"Test Accuracy: {accuracy}%\")\n"
      ],
      "metadata": {
        "id": "rh9HKz_FKxyJ"
      },
      "execution_count": null,
      "outputs": []
    }
  ]
}