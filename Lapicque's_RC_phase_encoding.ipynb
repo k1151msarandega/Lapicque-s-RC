{
  "nbformat": 4,
  "nbformat_minor": 0,
  "metadata": {
    "colab": {
      "provenance": [],
      "authorship_tag": "ABX9TyOllWiTRgDW7ycTYnf8fQ+W",
      "include_colab_link": true
    },
    "kernelspec": {
      "name": "python3",
      "display_name": "Python 3"
    },
    "language_info": {
      "name": "python"
    }
  },
  "cells": [
    {
      "cell_type": "markdown",
      "metadata": {
        "id": "view-in-github",
        "colab_type": "text"
      },
      "source": [
        "<a href=\"https://colab.research.google.com/github/k1151msarandega/Lapicque-s-RC/blob/main/Lapicque's_RC_phase_encoding.ipynb\" target=\"_parent\"><img src=\"https://colab.research.google.com/assets/colab-badge.svg\" alt=\"Open In Colab\"/></a>"
      ]
    },
    {
      "cell_type": "markdown",
      "source": [
        "**Architecture:** *Lapicque's RC*\n",
        "\n",
        "**Encoding Scheme:** *Phase encoding*"
      ],
      "metadata": {
        "id": "qQYWE_QwQ4o0"
      }
    },
    {
      "cell_type": "markdown",
      "source": [
        "1. Install the required libraries: SNNtorch, PyTorch and import the necessary modules"
      ],
      "metadata": {
        "id": "RFc5ZaRFjkkg"
      }
    },
    {
      "cell_type": "code",
      "execution_count": null,
      "metadata": {
        "id": "H2TzaPRMjI9p"
      },
      "outputs": [],
      "source": [
        "import torch\n",
        "import torch.nn as nn\n",
        "import torch.optim as optim\n",
        "import torchvision\n",
        "import torchvision.transforms as transforms\n",
        "from snntorch import spikegen\n",
        "from snntorch import data\n",
        "from snntorch import conversion\n",
        "from snntorch import surrogate"
      ]
    },
    {
      "cell_type": "markdown",
      "source": [
        "2. Define the SNN Lapicque's RC model"
      ],
      "metadata": {
        "id": "GAXgA8nkjvyM"
      }
    },
    {
      "cell_type": "code",
      "source": [
        "class SNNModel(nn.Module):\n",
        "    def __init__(self):\n",
        "        super(SNNModel, self).__init__()\n",
        "        self.fc1 = spikegen.SpikeLinear(784, 256)\n",
        "        self.fc2 = spikegen.SpikeLinear(256, 128)\n",
        "        self.fc3 = spikegen.SpikeLinear(128, 10)\n",
        "        self.surrogate = surrogate.ATan()\n",
        "        self.surr_alpha = nn.Parameter(torch.tensor(1.5))\n",
        "\n",
        "    def forward(self, x):\n",
        "        x = self.fc1(x)\n",
        "        x = self.surrogate(x, self.surr_alpha)\n",
        "        x = self.fc2(x)\n",
        "        x = self.surrogate(x, self.surr_alpha)\n",
        "        x = self.fc3(x)\n",
        "        x = self.surrogate(x, self.surr_alpha)\n",
        "        return x"
      ],
      "metadata": {
        "id": "PrvMQ4prjz-i"
      },
      "execution_count": null,
      "outputs": []
    },
    {
      "cell_type": "markdown",
      "source": [
        "3. Prepare the dataset"
      ],
      "metadata": {
        "id": "yraBkOhaj5kn"
      }
    },
    {
      "cell_type": "code",
      "source": [
        "transform = transforms.Compose([\n",
        "    transforms.ToTensor(),\n",
        "    transforms.Normalize((0.1307,), (0.3081,))\n",
        "])\n",
        "\n",
        "trainset = torchvision.datasets.MNIST(root='./data', train=True, download=True, transform=transform)\n",
        "trainloader = torch.utils.data.DataLoader(trainset, batch_size=64, shuffle=True, num_workers=2)\n",
        "\n",
        "testset = torchvision.datasets.MNIST(root='./data', train=False, download=True, transform=transform)\n",
        "testloader = torch.utils.data.DataLoader(testset, batch_size=64, shuffle=False, num_workers=2)"
      ],
      "metadata": {
        "id": "-E5qJl9dj-BN"
      },
      "execution_count": null,
      "outputs": []
    },
    {
      "cell_type": "markdown",
      "source": [
        "4. Initialise the SNN model and define the loss function and optimiser"
      ],
      "metadata": {
        "id": "wJx2LqoikCT2"
      }
    },
    {
      "cell_type": "code",
      "source": [
        "snn_model = SNNModel()\n",
        "loss_function = nn.CrossEntropyLoss()\n",
        "optimizer = optim.SGD(snn_model.parameters(), lr=0.01, momentum=0.9)"
      ],
      "metadata": {
        "id": "ZWmAvBE9kIMC"
      },
      "execution_count": null,
      "outputs": []
    },
    {
      "cell_type": "markdown",
      "source": [
        "5. Train the SNN model"
      ],
      "metadata": {
        "id": "4TbmlNrkkP3g"
      }
    },
    {
      "cell_type": "code",
      "source": [
        "num_epochs = 10\n",
        "\n",
        "for epoch in range(num_epochs):\n",
        "    running_loss = 0.0\n",
        "    train_accuracy = 0.0\n",
        "    for i, (inputs, labels) in enumerate(trainloader):\n",
        "        inputs = spikegen.phase_encode(inputs)  # Perform phase encoding on inputs\n",
        "\n",
        "        snn_model.zero_grad()  # Reset the membrane potentials and spikes of the SNN model\n",
        "\n",
        "        outputs = snn_model(inputs)  # Perform forward pass through the SNN model\n",
        "\n",
        "        loss = loss_function(outputs, labels)  # Compute the loss\n",
        "        loss.backward()  # Perform backward pass\n",
        "        optimizer.step()  # Update the weights\n",
        "\n",
        "        running_loss += loss.item()\n",
        "        _, predicted = torch.max(outputs.data, 1)\n",
        "        train_accuracy += (predicted == labels).sum().item()\n",
        "\n",
        "    train_accuracy = 100.0 * train_accuracy / len(trainset)\n",
        "    print(f\"Epoch: {epoch + 1}, Loss: {running_loss / len(trainloader)}, Accuracy: {train_accuracy}%\")\n",
        "\n",
        "print(\"Training complete!\")"
      ],
      "metadata": {
        "id": "Lv8qSECykT44"
      },
      "execution_count": null,
      "outputs": []
    },
    {
      "cell_type": "markdown",
      "source": [
        "6. Evaluate the SNN model on the test set"
      ],
      "metadata": {
        "id": "xhWCWYIhkYKk"
      }
    },
    {
      "cell_type": "code",
      "source": [
        "correct = 0\n",
        "total = 0\n",
        "\n",
        "with torch.no_grad():\n",
        "    for inputs, labels in testloader:\n",
        "        inputs = spikegen.phase_encode(inputs)  # Perform phase encoding on inputs\n",
        "\n",
        "        snn_model.zero_grad()  # Reset the membrane potentials and spikes of the SNN model\n",
        "\n",
        "        outputs = snn_model(inputs)  # Perform forward pass through the SNN model\n",
        "\n",
        "        _, predicted = torch.max(outputs.data, 1)\n",
        "        total += labels.size(0)\n",
        "        correct += (predicted == labels).sum().item()\n",
        "\n",
        "test_accuracy = 100.0 * correct / total\n",
        "print(f\"Test Accuracy: {test_accuracy}%\")\n"
      ],
      "metadata": {
        "id": "8BV2p9eIkthH"
      },
      "execution_count": null,
      "outputs": []
    },
    {
      "cell_type": "markdown",
      "source": [
        "7. Evaluation metrics (time)"
      ],
      "metadata": {
        "id": "L-laO7G6kzPF"
      }
    },
    {
      "cell_type": "code",
      "source": [
        "import time\n",
        "\n",
        "start_time = time.time()\n",
        "\n",
        "# Training and evaluation code\n",
        "\n",
        "end_time = time.time()\n",
        "computational_time = end_time - start_time\n",
        "print(f\"Computational time: {computational_time} seconds\")"
      ],
      "metadata": {
        "id": "nRTf7DPakw81"
      },
      "execution_count": null,
      "outputs": []
    }
  ]
}