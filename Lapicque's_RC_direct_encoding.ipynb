{
  "nbformat": 4,
  "nbformat_minor": 0,
  "metadata": {
    "colab": {
      "provenance": [],
      "authorship_tag": "ABX9TyNaM2lqxAn4ZG8bSaUTI+Cd",
      "include_colab_link": true
    },
    "kernelspec": {
      "name": "python3",
      "display_name": "Python 3"
    },
    "language_info": {
      "name": "python"
    }
  },
  "cells": [
    {
      "cell_type": "markdown",
      "metadata": {
        "id": "view-in-github",
        "colab_type": "text"
      },
      "source": [
        "<a href=\"https://colab.research.google.com/github/k1151msarandega/Lapicque-s-RC/blob/main/Lapicque's_RC_direct_encoding.ipynb\" target=\"_parent\"><img src=\"https://colab.research.google.com/assets/colab-badge.svg\" alt=\"Open In Colab\"/></a>"
      ]
    },
    {
      "cell_type": "markdown",
      "source": [
        "**Architecture:** *Lapicque's RC*\n",
        "\n",
        "\n",
        "**Encoding Scheme:** *Direct encoding*"
      ],
      "metadata": {
        "id": "qQYWE_QwQ4o0"
      }
    },
    {
      "cell_type": "markdown",
      "source": [
        "1. Import necessary libraries"
      ],
      "metadata": {
        "id": "4DWPhYouPMl5"
      }
    },
    {
      "cell_type": "code",
      "execution_count": null,
      "metadata": {
        "id": "VupSLkAVOOpz"
      },
      "outputs": [],
      "source": [
        "import torch\n",
        "import torch.nn as nn\n",
        "import torch.optim as optim\n",
        "from torchvision import datasets, transforms\n",
        "from snntorch import simulators"
      ]
    },
    {
      "cell_type": "markdown",
      "source": [
        "2. Set device"
      ],
      "metadata": {
        "id": "9BTxVBl0PSoy"
      }
    },
    {
      "cell_type": "code",
      "source": [
        "device = torch.device(\"cuda\" if torch.cuda.is_available() else \"cpu\")"
      ],
      "metadata": {
        "id": "EohuCcqgPW3O"
      },
      "execution_count": null,
      "outputs": []
    },
    {
      "cell_type": "markdown",
      "source": [
        "3. Define the Lapicque's RC neuron model"
      ],
      "metadata": {
        "id": "ImTRxUX0PZzW"
      }
    },
    {
      "cell_type": "code",
      "source": [
        "class LapicqueRCNeuron(nn.Module):\n",
        "    def __init__(self):\n",
        "        super(LapicqueRCNeuron, self).__init__()\n",
        "        self.threshold = torch.Tensor([1.0]).to(device)\n",
        "        self.membrane_potential = torch.zeros(1, 1).to(device)\n",
        "\n",
        "    def forward(self, x):\n",
        "        self.membrane_potential += x\n",
        "        spike = (self.membrane_potential >= self.threshold).float()\n",
        "        self.membrane_potential *= (1 - spike)\n",
        "        return spike"
      ],
      "metadata": {
        "id": "022GUyEnPeX7"
      },
      "execution_count": null,
      "outputs": []
    },
    {
      "cell_type": "markdown",
      "source": [
        "4. Load MNIST dataset"
      ],
      "metadata": {
        "id": "4e9gLpXSPia4"
      }
    },
    {
      "cell_type": "code",
      "source": [
        "transform = transforms.Compose([\n",
        "    transforms.ToTensor(),\n",
        "    transforms.Normalize((0.5,), (0.5,))\n",
        "])\n",
        "\n",
        "train_dataset = datasets.MNIST('data', train=True, download=True, transform=transform)\n",
        "test_dataset = datasets.MNIST('data', train=False, download=True, transform=transform)\n",
        "\n",
        "train_loader = torch.utils.data.DataLoader(train_dataset, batch_size=64, shuffle=True)\n",
        "test_loader = torch.utils.data.DataLoader(test_dataset, batch_size=64, shuffle=False)"
      ],
      "metadata": {
        "id": "lJdo4HnvPnK-"
      },
      "execution_count": null,
      "outputs": []
    },
    {
      "cell_type": "markdown",
      "source": [
        "5. Define the SNN model"
      ],
      "metadata": {
        "id": "z6i7qE65PqM-"
      }
    },
    {
      "cell_type": "code",
      "source": [
        "class SNNLapicqueRC(nn.Module):\n",
        "    def __init__(self):\n",
        "        super(SNNLapicqueRC, self).__init__()\n",
        "        self.fc1 = nn.Linear(784, 512)\n",
        "        self.fc2 = nn.Linear(512, 10)\n",
        "        self.neuron = LapicqueRCNeuron()\n",
        "\n",
        "    def forward(self, x):\n",
        "        x = x.view(-1, 784)\n",
        "        x = self.fc1(x)\n",
        "        x = self.neuron(x)\n",
        "        x = self.fc2(x)\n",
        "        return x"
      ],
      "metadata": {
        "id": "dFy487YBP3D_"
      },
      "execution_count": null,
      "outputs": []
    },
    {
      "cell_type": "markdown",
      "source": [
        "6. Set up the SNN model"
      ],
      "metadata": {
        "id": "pQhCJJB4P5k9"
      }
    },
    {
      "cell_type": "code",
      "source": [
        "model = SNNLapicqueRC().to(device)"
      ],
      "metadata": {
        "id": "GVFSu4kqP9Gi"
      },
      "execution_count": null,
      "outputs": []
    },
    {
      "cell_type": "markdown",
      "source": [
        "7. Define the loss function and optimiser"
      ],
      "metadata": {
        "id": "IFgj_9b8QA54"
      }
    },
    {
      "cell_type": "code",
      "source": [
        "criterion = nn.CrossEntropyLoss()\n",
        "optimizer = optim.Adam(model.parameters(), lr=0.001)\n",
        "\n",
        "# Train the SNN model\n",
        "def train(model, train_loader, optimizer, criterion):\n",
        "    model.train()\n",
        "    for batch_idx, (data, target) in enumerate(train_loader):\n",
        "        data, target = data.to(device), target.to(device)\n",
        "        optimizer.zero_grad()\n",
        "        output = model(data)\n",
        "        loss = criterion(output, target)\n",
        "        loss.backward()\n",
        "        optimizer.step()"
      ],
      "metadata": {
        "id": "8li_cHZUQAdj"
      },
      "execution_count": null,
      "outputs": []
    },
    {
      "cell_type": "markdown",
      "source": [
        "8. Test the SNN model"
      ],
      "metadata": {
        "id": "k5TzruH_QTns"
      }
    },
    {
      "cell_type": "code",
      "source": [
        "def test(model, test_loader):\n",
        "    model.eval()\n",
        "    correct = 0\n",
        "    total = 0\n",
        "    with torch.no_grad():\n",
        "        for data, target in test_loader:\n",
        "            data, target = data.to(device), target.to(device)\n",
        "            output = model(data)\n",
        "            _, predicted = output.max(1)\n",
        "            total += target.size(0)\n",
        "            correct += predicted.eq(target).sum().item()\n",
        "    accuracy = 100. * correct / total\n",
        "    return accuracy"
      ],
      "metadata": {
        "id": "_472toT7QXIR"
      },
      "execution_count": null,
      "outputs": []
    },
    {
      "cell_type": "markdown",
      "source": [
        "9. Main training loop"
      ],
      "metadata": {
        "id": "xxNemJDLQaSt"
      }
    },
    {
      "cell_type": "code",
      "source": [
        "num_epochs = 10\n",
        "\n",
        "for epoch in range(num_epochs):\n",
        "    train(model, train_loader, optimizer, criterion)\n",
        "    accuracy = test(model, test_loader)\n",
        "    print(f\"Epoch {epoch+1}/{num_epochs} - Accuracy: {accuracy:.2f}%\")"
      ],
      "metadata": {
        "id": "5DotKTvPQh44"
      },
      "execution_count": null,
      "outputs": []
    },
    {
      "cell_type": "markdown",
      "source": [
        "10. Calculate computational time"
      ],
      "metadata": {
        "id": "jeMwKxmaQk7h"
      }
    },
    {
      "cell_type": "code",
      "source": [
        "start_time = torch.cuda.Event(enable_timing=True)\n",
        "end_time = torch.cuda.Event(enable_timing=True)\n",
        "start_time.record()\n"
      ],
      "metadata": {
        "id": "AS1KsjytQtwn"
      },
      "execution_count": null,
      "outputs": []
    },
    {
      "cell_type": "markdown",
      "source": [
        "11. Run the inference on test dataset"
      ],
      "metadata": {
        "id": "kNxQo-8pQwKg"
      }
    },
    {
      "cell_type": "code",
      "source": [
        "test_accuracy = test(model, test_loader)\n",
        "\n",
        "end_time.record()\n",
        "torch.cuda.synchronize()\n",
        "elapsed_time = start_time.elapsed_time(end_time) / 1000  # Convert to seconds\n",
        "\n",
        "print(f\"Test Accuracy: {test_accuracy:.2f}%\")\n",
        "print(f\"Computational Time: {elapsed_time:.4f} seconds\")"
      ],
      "metadata": {
        "id": "zaqvVRZLRPZE"
      },
      "execution_count": null,
      "outputs": []
    }
  ]
}